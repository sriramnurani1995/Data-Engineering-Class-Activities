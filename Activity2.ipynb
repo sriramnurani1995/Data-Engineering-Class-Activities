{
  "nbformat": 4,
  "nbformat_minor": 0,
  "metadata": {
    "colab": {
      "provenance": [],
      "authorship_tag": "ABX9TyOhL6nqu5PnXX6ydGoJtGzW",
      "include_colab_link": true
    },
    "kernelspec": {
      "name": "python3",
      "display_name": "Python 3"
    },
    "language_info": {
      "name": "python"
    }
  },
  "cells": [
    {
      "cell_type": "markdown",
      "metadata": {
        "id": "view-in-github",
        "colab_type": "text"
      },
      "source": [
        "<a href=\"https://colab.research.google.com/github/sriramnurani1995/Data-Engineering-Class-Activities/blob/main/Activity2.ipynb\" target=\"_parent\"><img src=\"https://colab.research.google.com/assets/colab-badge.svg\" alt=\"Open In Colab\"/></a>"
      ]
    },
    {
      "cell_type": "code",
      "execution_count": 1,
      "metadata": {
        "colab": {
          "base_uri": "https://localhost:8080/"
        },
        "id": "H3ua_cnSGmE0",
        "outputId": "8abeebd9-7582-4a30-8c46-6409c143b376"
      },
      "outputs": [
        {
          "output_type": "stream",
          "name": "stdout",
          "text": [
            "Please enter the city name: PORTLAND\n",
            "Please enter the state code: OR\n",
            "Please enter the country code: US\n",
            "The latitude and longitude for PORTLAND, OR, US are 45.5202471, -122.674194.\n"
          ]
        }
      ],
      "source": [
        "import requests\n",
        "\n",
        "# Function to get latitude and longitude\n",
        "def get_lat_lon(city, state, country, api_key):\n",
        "    try:\n",
        "        # Combine user input into a location query\n",
        "        location_query = f\"{city},{state},{country}\"\n",
        "        # OpenWeatherMap geocoding API endpoint\n",
        "        geocoding_url = f\"http://api.openweathermap.org/geo/1.0/direct?q={location_query}&limit=1&appid={api_key}\"\n",
        "\n",
        "        # Make a request to the geocoding API\n",
        "        response = requests.get(geocoding_url)\n",
        "        response.raise_for_status()  # Will raise an HTTPError if the HTTP request returned an unsuccessful status code\n",
        "\n",
        "        # Assuming the first result is the most relevant one\n",
        "        geocoding_data = response.json()[0]\n",
        "\n",
        "        # Extract latitude and longitude\n",
        "        lat = geocoding_data['lat']\n",
        "        lon = geocoding_data['lon']\n",
        "\n",
        "        return lat, lon\n",
        "\n",
        "    except requests.exceptions.HTTPError as http_err:\n",
        "        print(f\"HTTP error occurred: {http_err}\")  # HTTP error\n",
        "    except Exception as err:\n",
        "        print(f\"Other error occurred: {err}\")  # Other errors\n",
        "    return None, None\n",
        "\n",
        "# Ask the user for input\n",
        "city_name = input(\"Please enter the city name: \")\n",
        "state_code = input(\"Please enter the state code: \")\n",
        "country_code = input(\"Please enter the country code: \")\n",
        "\n",
        "# Your OpenWeatherMap API key (You should keep this private and not expose it in shared code)\n",
        "api_key = '01b1c5ce2b743eb27f35ebbd3b53f96f'\n",
        "\n",
        "# Call the function to get the latitude and longitude\n",
        "latitude, longitude = get_lat_lon(city_name, state_code, country_code, api_key)\n",
        "\n",
        "if latitude is not None and longitude is not None:\n",
        "    print(f\"The latitude and longitude for {city_name}, {state_code}, {country_code} are {latitude}, {longitude}.\")\n",
        "else:\n",
        "    print(\"Could not get the geographical coordinates.\")\n"
      ]
    },
    {
      "cell_type": "code",
      "source": [
        "import requests\n",
        "\n",
        "def get_current_weather(lat, lon, api_key):\n",
        "    try:\n",
        "        weather_url = f\"https://api.openweathermap.org/data/2.5/weather?lat={lat}&lon={lon}&appid={api_key}\"\n",
        "\n",
        "        print(weather_url)\n",
        "\n",
        "        # Make a request to the API\n",
        "        response = requests.get(weather_url)\n",
        "        response.raise_for_status()  # Will raise an HTTPError for bad requests\n",
        "\n",
        "        # Parse the JSON response\n",
        "        weather_data = response.json()\n",
        "\n",
        "        # Rain condition codes indicating different types of rain as per OpenWeatherMap documentation\n",
        "        rain_codes = [200, 201, 202, 230, 231, 232, 300, 301, 302, 310, 311, 312, 313, 314, 321, 500, 501, 502, 503, 504, 511, 520, 521, 522, 531]\n",
        "\n",
        "        # Iterate through the weather conditions and check for rain codes\n",
        "        for condition in weather_data['weather']:\n",
        "            if condition['id'] in rain_codes:\n",
        "                return True  # It's raining\n",
        "\n",
        "        return False  # It's not raining\n",
        "\n",
        "    except requests.exceptions.HTTPError as http_err:\n",
        "        print(f\"HTTP error occurred: {http_err}\")  # HTTP error\n",
        "    except Exception as err:\n",
        "        print(f\"Other error occurred: {err}\")  # Other errors\n",
        "    return False\n",
        "\n",
        "\n",
        "# Your OpenWeatherMap API key\n",
        "api_key = '01b1c5ce2b743eb27f35ebbd3b53f96f'\n",
        "\n",
        "# Check if it is currently raining\n",
        "is_raining = get_current_weather(latitude, longitude, api_key)\n",
        "\n",
        "print(f\"Is it raining in Portland, OR right now? {'Yes' if is_raining else 'No'}\")\n"
      ],
      "metadata": {
        "colab": {
          "base_uri": "https://localhost:8080/"
        },
        "id": "9y8zRIKmHj8l",
        "outputId": "4bb4256d-dcac-42fe-eea7-0ef467e17055"
      },
      "execution_count": 11,
      "outputs": [
        {
          "output_type": "stream",
          "name": "stdout",
          "text": [
            "https://api.openweathermap.org/data/2.5/weather?lat=45.5202471&lon=-122.674194&appid=01b1c5ce2b743eb27f35ebbd3b53f96f\n",
            "Is it raining in Portland, OR right now? No\n"
          ]
        }
      ]
    },
    {
      "cell_type": "code",
      "source": [
        "import requests\n",
        "from datetime import datetime, timedelta\n",
        "\n",
        "def get_next_class_datetime(now, class_days, class_start_time):\n",
        "    # Calculate the next class datetime based on the current datetime and class schedule\n",
        "    today_day_number = now.weekday()\n",
        "    days_ahead = sorted((class_day - today_day_number) % 7 for class_day in class_days)\n",
        "    # If today is a class day and it hasn't started yet, consider today as the next class date\n",
        "    if today_day_number in class_days and now.time() < class_start_time:\n",
        "        next_class_date = now.date()\n",
        "    else:\n",
        "        next_class_date = now.date() + timedelta(days=days_ahead[0])\n",
        "    return datetime.combine(next_class_date, class_start_time)\n",
        "\n",
        "def get_forecast_entry_for_next_class(lat, lon, api_key, next_class_datetime, class_duration_hours):\n",
        "    # OpenWeatherMap 5-day forecast API endpoint\n",
        "    forecast_url = f\"http://api.openweathermap.org/data/2.5/forecast?lat={lat}&lon={lon}&appid={api_key}\"\n",
        "\n",
        "    # Make a request to the API\n",
        "    response = requests.get(forecast_url)\n",
        "    response.raise_for_status()  # Will raise an HTTPError for bad requests\n",
        "\n",
        "    # Parse the JSON response\n",
        "    forecast_data = response.json()\n",
        "    # Get the list of forecasts\n",
        "    forecasts = forecast_data['list']\n",
        "\n",
        "    # Iterate over the forecasts to find the one for the next class period\n",
        "    for forecast in forecasts:\n",
        "        forecast_time = datetime.fromtimestamp(forecast['dt'])\n",
        "        # Check if the forecast is within the next class period\n",
        "        if next_class_datetime <= forecast_time < next_class_datetime + timedelta(hours=class_duration_hours):\n",
        "            return forecast  # Return the forecast entry for the class period\n",
        "\n",
        "    return None  # If no forecast matches the class period, return None\n",
        "\n",
        "def check_for_rain(forecast_entry):\n",
        "    if forecast_entry:  # Ensure there is a forecast entry to check\n",
        "        # Rain condition codes indicating different types of rain\n",
        "        rain_codes = [200, 201, 202, 230, 231, 232, 300, 301, 302, 310, 311, 312, 313, 314, 321, 500, 501, 502, 503, 504, 511, 520, 521, 522, 531]\n",
        "        # Check the weather condition codes in the forecast entry\n",
        "        weather_conditions = forecast_entry['weather']\n",
        "        for condition in weather_conditions:\n",
        "            if condition['id'] in rain_codes:\n",
        "                return True  # Rain is forecasted\n",
        "    return False  # No rain forecasted or no forecast entry provided\n",
        "\n",
        "# Class days, start time, and duration (in hours)\n",
        "class_days = [1, 3]  # Tuesday and Thursday\n",
        "class_start_time = datetime.strptime(\"18:30\", \"%H:%M\").time()\n",
        "class_duration_hours = 2  # Duration of the class in hours\n",
        "\n",
        "# Determine the datetime of the next class\n",
        "now = datetime.now()\n",
        "next_class_datetime = get_next_class_datetime(now, class_days, class_start_time)\n",
        "\n",
        "# Find the forecast entry for the next class period\n",
        "forecast_entry = get_forecast_entry_for_next_class(latitude, longitude, api_key, next_class_datetime, class_duration_hours)\n",
        "\n",
        "# Check if it will rain during the next class\n",
        "is_raining_next_class = check_for_rain(forecast_entry)\n",
        "\n",
        "# Print the result\n",
        "print(f\"Will it rain during the next class? {'Yes' if is_raining_next_class else 'No'}\")\n"
      ],
      "metadata": {
        "colab": {
          "base_uri": "https://localhost:8080/"
        },
        "id": "HHhlLDcbLN2u",
        "outputId": "9a050dca-db6b-41cd-91dd-bc05c5c391ea"
      },
      "execution_count": 19,
      "outputs": [
        {
          "output_type": "stream",
          "name": "stdout",
          "text": [
            "Will it rain during the next class? No\n"
          ]
        }
      ]
    }
  ]
}
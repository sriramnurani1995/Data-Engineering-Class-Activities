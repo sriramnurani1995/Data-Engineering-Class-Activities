{
  "nbformat": 4,
  "nbformat_minor": 0,
  "metadata": {
    "colab": {
      "provenance": []
    },
    "kernelspec": {
      "name": "python3",
      "display_name": "Python 3"
    },
    "language_info": {
      "name": "python"
    }
  },
  "cells": [
    {
      "cell_type": "code",
      "execution_count": 2,
      "metadata": {
        "colab": {
          "base_uri": "https://localhost:8080/"
        },
        "id": "D_IsPDep5QUF",
        "outputId": "fef328ca-7111-4b97-a77e-749899b4cbe8"
      },
      "outputs": [
        {
          "output_type": "stream",
          "name": "stdout",
          "text": [
            "                   Name  Gender  Department  Salary Languages_Spoken Country  \\\n",
            "0  Christopher Villegas  Female       Legal   72074   Tagalog, Hindi     USA   \n",
            "1        Gail Hernandez  Female       Sales   50994          Tagalog   India   \n",
            "2            Hannah Cox    Male  Operations   71465                    India   \n",
            "3            Jacob Diaz  Female         I/T   63085   Hindi, Tagalog  Taiwan   \n",
            "4     Travis Stephenson  Female  Operations   56602          Tagalog     USA   \n",
            "\n",
            "  Social_Security_Number  \n",
            "0            555-29-5793  \n",
            "1            077-64-7466  \n",
            "2            702-63-0636  \n",
            "3            783-86-3601  \n",
            "4            827-60-3532  \n"
          ]
        }
      ],
      "source": [
        "import pandas as pd\n",
        "from faker import Faker\n",
        "import random\n",
        "\n",
        "# Initialize Faker\n",
        "fake = Faker()\n",
        "\n",
        "# Define the number of employees\n",
        "num_employees = 10000\n",
        "\n",
        "# Define the proportions of H1B petitions from different countries (based on 2019 data)\n",
        "h1b_countries = {\n",
        "    'India': 0.72,\n",
        "    'China': 0.13,\n",
        "    'Canada': 0.05,\n",
        "    'South Korea': 0.04,\n",
        "    'Philippines': 0.02,\n",
        "    'Taiwan': 0.02,\n",
        "    'Mexico': 0.02\n",
        "}\n",
        "\n",
        "# Define departments and their proportions\n",
        "departments = {\n",
        "    'Legal': 0.05,\n",
        "    'Marketing': 0.10,\n",
        "    'Administrative': 0.10,\n",
        "    'Operations': 0.20,\n",
        "    'Sales': 0.10,\n",
        "    'Finance': 0.05,\n",
        "    'I/T': 0.10,\n",
        "    'Product': 0.20,\n",
        "    'Human Resource': 0.10\n",
        "}\n",
        "\n",
        "# Define salaries for each department (use realistic ranges from salary.com)\n",
        "salary_ranges = {\n",
        "    'Legal': (60000, 120000),\n",
        "    'Marketing': (50000, 100000),\n",
        "    'Administrative': (30000, 70000),\n",
        "    'Operations': (40000, 90000),\n",
        "    'Sales': (45000, 95000),\n",
        "    'Finance': (50000, 110000),\n",
        "    'I/T': (60000, 130000),\n",
        "    'Product': (70000, 150000),\n",
        "    'Human Resource': (40000, 80000)\n",
        "}\n",
        "\n",
        "# Gender balancing\n",
        "genders = ['Male', 'Female']\n",
        "\n",
        "# Generate synthetic employee data\n",
        "employees = []\n",
        "\n",
        "for _ in range(num_employees):\n",
        "    gender = random.choice(genders)\n",
        "    department = random.choices(list(departments.keys()), weights=departments.values())[0]\n",
        "    salary = random.randint(*salary_ranges[department])\n",
        "    languages_spoken = random.sample(['Spanish', 'Chinese', 'Hindi', 'Korean', 'Tagalog', 'French'], k=random.randint(0, 2))\n",
        "    country = random.choices(list(h1b_countries.keys()), weights=h1b_countries.values())[0] if random.random() < 0.40 else 'USA'\n",
        "\n",
        "    employee = {\n",
        "        'Name': fake.name(),\n",
        "        'Gender': gender,\n",
        "        'Department': department,\n",
        "        'Salary': salary,\n",
        "        'Languages_Spoken': ', '.join(languages_spoken),\n",
        "        'Country': country,\n",
        "        'Social_Security_Number': fake.ssn()\n",
        "    }\n",
        "\n",
        "    employees.append(employee)\n",
        "\n",
        "# Convert to DataFrame\n",
        "df = pd.DataFrame(employees)\n",
        "\n",
        "# Save the DataFrame to a CSV file\n",
        "df.to_csv('synthetic_employees.csv', index=False)\n",
        "\n",
        "# Display the DataFrame\n",
        "print(df.head())\n"
      ]
    },
    {
      "cell_type": "code",
      "source": [
        "pip install faker"
      ],
      "metadata": {
        "colab": {
          "base_uri": "https://localhost:8080/"
        },
        "id": "VSx9Tbke5SHX",
        "outputId": "a2c08008-4fe4-466a-e80f-6ff6a1d4eb85"
      },
      "execution_count": 1,
      "outputs": [
        {
          "output_type": "stream",
          "name": "stdout",
          "text": [
            "Collecting faker\n",
            "  Downloading Faker-25.8.0-py3-none-any.whl (1.8 MB)\n",
            "\u001b[2K     \u001b[90m━━━━━━━━━━━━━━━━━━━━━━━━━━━━━━━━━━━━━━━━\u001b[0m \u001b[32m1.8/1.8 MB\u001b[0m \u001b[31m6.6 MB/s\u001b[0m eta \u001b[36m0:00:00\u001b[0m\n",
            "\u001b[?25hRequirement already satisfied: python-dateutil>=2.4 in /usr/local/lib/python3.10/dist-packages (from faker) (2.8.2)\n",
            "Requirement already satisfied: six>=1.5 in /usr/local/lib/python3.10/dist-packages (from python-dateutil>=2.4->faker) (1.16.0)\n",
            "Installing collected packages: faker\n",
            "Successfully installed faker-25.8.0\n"
          ]
        }
      ]
    }
  ]
}